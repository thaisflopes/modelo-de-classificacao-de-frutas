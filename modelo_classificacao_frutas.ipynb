{
  "nbformat": 4,
  "nbformat_minor": 0,
  "metadata": {
    "colab": {
      "name": "modelo-classificacao-frutas.ipynb",
      "provenance": [],
      "collapsed_sections": [],
      "toc_visible": true,
      "include_colab_link": true
    },
    "kernelspec": {
      "display_name": "Python 3",
      "language": "python",
      "name": "python3"
    },
    "language_info": {
      "codemirror_mode": {
        "name": "ipython",
        "version": 3
      },
      "file_extension": ".py",
      "mimetype": "text/x-python",
      "name": "python",
      "nbconvert_exporter": "python",
      "pygments_lexer": "ipython3",
      "version": "3.8.5"
    }
  },
  "cells": [
    {
      "cell_type": "markdown",
      "metadata": {
        "id": "view-in-github",
        "colab_type": "text"
      },
      "source": [
        "<a href=\"https://colab.research.google.com/github/thaisflopes/modelo-de-classificacao-de-frutas/blob/main/modelo_classificacao_frutas.ipynb\" target=\"_parent\"><img src=\"https://colab.research.google.com/assets/colab-badge.svg\" alt=\"Open In Colab\"/></a>"
      ]
    },
    {
      "cell_type": "markdown",
      "metadata": {
        "id": "TOvht7vqQGdR"
      },
      "source": [
        "## Informações Iniciais\n",
        "\n",
        "Descrição: Trata-se de um projeto para criação de um modelo de classificação de frutas, em que foram comparados dois modelos, um de SVM e outro de KNN.\n",
        "\n",
        "Projeto desenvolvido na disciplina Fundamentos da Mineração de Dados (Data Mining).\n",
        "\n",
        "Elaborado em 09/10/2020 por Thaís Lopes (https://github.com/thaisflopes)\n",
        "___"
      ]
    },
    {
      "cell_type": "markdown",
      "metadata": {
        "id": "rIsXW8uQmypr"
      },
      "source": [
        "## Contexto"
      ]
    },
    {
      "cell_type": "markdown",
      "metadata": {
        "id": "wiS2OR4bg2L6"
      },
      "source": [
        "Nesse projeto será analisado um conjunto de dados a respeito de laranjas e toranjas. **O objetivo é criar um modelo de classificação dessas frutas.**\n",
        "\n",
        "Dessa forma, esse projeto está dividido em três partes:\n",
        "1. A primeira consiste na análise exploratória dos dados;\n",
        "2. A segunda consiste no treinamento de um modelo; e\n",
        "3. A terceira consiste na validação do modelo proposto."
      ]
    },
    {
      "cell_type": "markdown",
      "metadata": {
        "id": "dB_j6LtTTO5j"
      },
      "source": [
        "## 1. Análise exploratória"
      ]
    },
    {
      "cell_type": "markdown",
      "metadata": {
        "id": "FPSqz1wzTXvz"
      },
      "source": [
        "### 1.1. Instalando as bibliotecas"
      ]
    },
    {
      "cell_type": "code",
      "metadata": {
        "id": "GGyDovL2QDLa"
      },
      "source": [
        "import pandas as pd\n",
        "import numpy as np\n",
        "import seaborn as sns                       #visualisação\n",
        "import matplotlib.pyplot as plt             #visualisação\n",
        "%matplotlib inline     \n",
        "sns.set(color_codes=True)"
      ],
      "execution_count": null,
      "outputs": []
    },
    {
      "cell_type": "markdown",
      "metadata": {
        "id": "8Y3Z2DbKTfJt"
      },
      "source": [
        "### 1.2. Carregando os dados\n",
        "\n",
        "Como informado no Contexto, nesse projeto será usado um dataset de [laranjas x toranjas disponibilizado no Kaggle](https://www.kaggle.com/joshmcadams/oranges-vs-grapefruit).\n",
        "\n",
        "Os códigos a seguir baixam o arquivo para dentro do ambiente do Colab. O arquivo está no Google Drive e foi compartilhado através de um link público. "
      ]
    },
    {
      "cell_type": "code",
      "metadata": {
        "id": "1HA7vpUKqauP"
      },
      "source": [
        "from pydrive.auth import GoogleAuth\n",
        "from pydrive.drive import GoogleDrive\n",
        "from google.colab import auth\n",
        "from oauth2client.client import GoogleCredentials\n",
        "\n",
        "auth.authenticate_user()\n",
        "gauth = GoogleAuth()\n",
        "gauth.credentials = GoogleCredentials.get_application_default()\n",
        "drive = GoogleDrive(gauth)"
      ],
      "execution_count": null,
      "outputs": []
    },
    {
      "cell_type": "code",
      "metadata": {
        "id": "akiuhqMbqj2e"
      },
      "source": [
        "file_dir = 'archive_citrus' #nome do arquivo zip\n",
        "filename = file_dir + '.zip'"
      ],
      "execution_count": null,
      "outputs": []
    },
    {
      "cell_type": "code",
      "metadata": {
        "id": "PrQavIiMqgmU"
      },
      "source": [
        "downloaded = drive.CreateFile({'id':\"1ptcZKvlHb_4gQV9oSyLGp4ZyPAbpjk6S\"}) #id do arquivo zip\n",
        "downloaded.GetContentFile('archive_citrus.zip') #nome do arquivo zip    "
      ],
      "execution_count": null,
      "outputs": []
    },
    {
      "cell_type": "markdown",
      "metadata": {
        "id": "ftU5mcRBq3jc"
      },
      "source": [
        "O código seguinte descompacta o arquivo para dentro do diretório que será utilizado como fonte de dados."
      ]
    },
    {
      "cell_type": "code",
      "metadata": {
        "colab": {
          "base_uri": "https://localhost:8080/",
          "height": 52
        },
        "id": "auyJH0-mqoeb",
        "outputId": "defc5e3d-1ce0-4623-e919-c74811820470"
      },
      "source": [
        "print(filename)\n",
        "\n",
        "# Unzip\n",
        "import zipfile\n",
        "import os.path\n",
        "import pathlib\n",
        "\n",
        "zip_ref = zipfile.ZipFile(filename, 'r')\n",
        "zip_ref.extractall(file_dir)\n",
        "zip_ref.close()\n",
        "\n",
        "this_dir = pathlib.Path().absolute()\n",
        "\n",
        "filepath = os.path.join(os.path.join(this_dir, file_dir), \"citrus.csv\") #nome da planilha csv\n",
        "print(filepath)"
      ],
      "execution_count": null,
      "outputs": [
        {
          "name": "stdout",
          "output_type": "stream",
          "text": [
            "archive_citrus.zip\n",
            "/content/archive_citrus/citrus.csv\n"
          ]
        }
      ]
    },
    {
      "cell_type": "code",
      "metadata": {
        "colab": {
          "base_uri": "https://localhost:8080/",
          "height": 197
        },
        "id": "0oVZnezwQ159",
        "outputId": "e26c53d7-e5d1-47a1-8c4a-1ce3157d7251"
      },
      "source": [
        "dados = pd.read_csv(filepath)\n",
        "\n",
        "# Para visualizar as 5 primeiras linhas\n",
        "dados.head(5)               "
      ],
      "execution_count": null,
      "outputs": [
        {
          "data": {
            "text/html": [
              "<div>\n",
              "<style scoped>\n",
              "    .dataframe tbody tr th:only-of-type {\n",
              "        vertical-align: middle;\n",
              "    }\n",
              "\n",
              "    .dataframe tbody tr th {\n",
              "        vertical-align: top;\n",
              "    }\n",
              "\n",
              "    .dataframe thead th {\n",
              "        text-align: right;\n",
              "    }\n",
              "</style>\n",
              "<table border=\"1\" class=\"dataframe\">\n",
              "  <thead>\n",
              "    <tr style=\"text-align: right;\">\n",
              "      <th></th>\n",
              "      <th>name</th>\n",
              "      <th>diameter</th>\n",
              "      <th>weight</th>\n",
              "      <th>red</th>\n",
              "      <th>green</th>\n",
              "      <th>blue</th>\n",
              "    </tr>\n",
              "  </thead>\n",
              "  <tbody>\n",
              "    <tr>\n",
              "      <th>0</th>\n",
              "      <td>orange</td>\n",
              "      <td>2.96</td>\n",
              "      <td>86.76</td>\n",
              "      <td>172</td>\n",
              "      <td>85</td>\n",
              "      <td>2</td>\n",
              "    </tr>\n",
              "    <tr>\n",
              "      <th>1</th>\n",
              "      <td>orange</td>\n",
              "      <td>3.91</td>\n",
              "      <td>88.05</td>\n",
              "      <td>166</td>\n",
              "      <td>78</td>\n",
              "      <td>3</td>\n",
              "    </tr>\n",
              "    <tr>\n",
              "      <th>2</th>\n",
              "      <td>orange</td>\n",
              "      <td>4.42</td>\n",
              "      <td>95.17</td>\n",
              "      <td>156</td>\n",
              "      <td>81</td>\n",
              "      <td>2</td>\n",
              "    </tr>\n",
              "    <tr>\n",
              "      <th>3</th>\n",
              "      <td>orange</td>\n",
              "      <td>4.47</td>\n",
              "      <td>95.60</td>\n",
              "      <td>163</td>\n",
              "      <td>81</td>\n",
              "      <td>4</td>\n",
              "    </tr>\n",
              "    <tr>\n",
              "      <th>4</th>\n",
              "      <td>orange</td>\n",
              "      <td>4.48</td>\n",
              "      <td>95.76</td>\n",
              "      <td>161</td>\n",
              "      <td>72</td>\n",
              "      <td>9</td>\n",
              "    </tr>\n",
              "  </tbody>\n",
              "</table>\n",
              "</div>"
            ],
            "text/plain": [
              "     name  diameter  weight  red  green  blue\n",
              "0  orange      2.96   86.76  172     85     2\n",
              "1  orange      3.91   88.05  166     78     3\n",
              "2  orange      4.42   95.17  156     81     2\n",
              "3  orange      4.47   95.60  163     81     4\n",
              "4  orange      4.48   95.76  161     72     9"
            ]
          },
          "execution_count": 6,
          "metadata": {
            "tags": []
          },
          "output_type": "execute_result"
        }
      ]
    },
    {
      "cell_type": "code",
      "metadata": {
        "colab": {
          "base_uri": "https://localhost:8080/",
          "height": 197
        },
        "id": "Fm-9dzdTRKpe",
        "outputId": "e72d2d7b-9012-4169-8a30-edaf30afb558"
      },
      "source": [
        "# Para visualizar as 5 últimas linhas\n",
        "dados.tail(5)                        "
      ],
      "execution_count": null,
      "outputs": [
        {
          "data": {
            "text/html": [
              "<div>\n",
              "<style scoped>\n",
              "    .dataframe tbody tr th:only-of-type {\n",
              "        vertical-align: middle;\n",
              "    }\n",
              "\n",
              "    .dataframe tbody tr th {\n",
              "        vertical-align: top;\n",
              "    }\n",
              "\n",
              "    .dataframe thead th {\n",
              "        text-align: right;\n",
              "    }\n",
              "</style>\n",
              "<table border=\"1\" class=\"dataframe\">\n",
              "  <thead>\n",
              "    <tr style=\"text-align: right;\">\n",
              "      <th></th>\n",
              "      <th>name</th>\n",
              "      <th>diameter</th>\n",
              "      <th>weight</th>\n",
              "      <th>red</th>\n",
              "      <th>green</th>\n",
              "      <th>blue</th>\n",
              "    </tr>\n",
              "  </thead>\n",
              "  <tbody>\n",
              "    <tr>\n",
              "      <th>9995</th>\n",
              "      <td>grapefruit</td>\n",
              "      <td>15.35</td>\n",
              "      <td>253.89</td>\n",
              "      <td>149</td>\n",
              "      <td>77</td>\n",
              "      <td>20</td>\n",
              "    </tr>\n",
              "    <tr>\n",
              "      <th>9996</th>\n",
              "      <td>grapefruit</td>\n",
              "      <td>15.41</td>\n",
              "      <td>254.67</td>\n",
              "      <td>148</td>\n",
              "      <td>68</td>\n",
              "      <td>7</td>\n",
              "    </tr>\n",
              "    <tr>\n",
              "      <th>9997</th>\n",
              "      <td>grapefruit</td>\n",
              "      <td>15.59</td>\n",
              "      <td>256.50</td>\n",
              "      <td>168</td>\n",
              "      <td>82</td>\n",
              "      <td>20</td>\n",
              "    </tr>\n",
              "    <tr>\n",
              "      <th>9998</th>\n",
              "      <td>grapefruit</td>\n",
              "      <td>15.92</td>\n",
              "      <td>260.14</td>\n",
              "      <td>142</td>\n",
              "      <td>72</td>\n",
              "      <td>11</td>\n",
              "    </tr>\n",
              "    <tr>\n",
              "      <th>9999</th>\n",
              "      <td>grapefruit</td>\n",
              "      <td>16.45</td>\n",
              "      <td>261.51</td>\n",
              "      <td>152</td>\n",
              "      <td>74</td>\n",
              "      <td>2</td>\n",
              "    </tr>\n",
              "  </tbody>\n",
              "</table>\n",
              "</div>"
            ],
            "text/plain": [
              "            name  diameter  weight  red  green  blue\n",
              "9995  grapefruit     15.35  253.89  149     77    20\n",
              "9996  grapefruit     15.41  254.67  148     68     7\n",
              "9997  grapefruit     15.59  256.50  168     82    20\n",
              "9998  grapefruit     15.92  260.14  142     72    11\n",
              "9999  grapefruit     16.45  261.51  152     74     2"
            ]
          },
          "execution_count": 7,
          "metadata": {
            "tags": []
          },
          "output_type": "execute_result"
        }
      ]
    },
    {
      "cell_type": "markdown",
      "metadata": {
        "id": "vAmC369yTpMF"
      },
      "source": [
        "### 1.3. Verificando os tipos de dados\n"
      ]
    },
    {
      "cell_type": "code",
      "metadata": {
        "colab": {
          "base_uri": "https://localhost:8080/",
          "height": 141
        },
        "id": "qPbKQ0noRptD",
        "outputId": "1fb9c93b-ca03-45ba-f55c-9009e09e5f30"
      },
      "source": [
        "dados.dtypes"
      ],
      "execution_count": null,
      "outputs": [
        {
          "data": {
            "text/plain": [
              "name         object\n",
              "diameter    float64\n",
              "weight      float64\n",
              "red           int64\n",
              "green         int64\n",
              "blue          int64\n",
              "dtype: object"
            ]
          },
          "execution_count": 8,
          "metadata": {
            "tags": []
          },
          "output_type": "execute_result"
        }
      ]
    },
    {
      "cell_type": "markdown",
      "metadata": {
        "id": "beRJyQAezdX8"
      },
      "source": [
        "Observa-se que a maioria dos dados são numéricos, tendo apenas um categórico.\n",
        "\n",
        "\n",
        "\n",
        "\n",
        "\n",
        "\n",
        "\n",
        "\n"
      ]
    },
    {
      "cell_type": "markdown",
      "metadata": {
        "id": "E8Kuz0KT3jFS"
      },
      "source": [
        "### 1.4. Tratando dados categóricos"
      ]
    },
    {
      "cell_type": "code",
      "metadata": {
        "colab": {
          "base_uri": "https://localhost:8080/",
          "height": 70
        },
        "id": "z-R3eNKi4OYz",
        "outputId": "ca784eed-4ef9-44b3-aad1-ba49313830d7"
      },
      "source": [
        "dados['name'].value_counts()"
      ],
      "execution_count": null,
      "outputs": [
        {
          "data": {
            "text/plain": [
              "orange        5000\n",
              "grapefruit    5000\n",
              "Name: name, dtype: int64"
            ]
          },
          "execution_count": 10,
          "metadata": {
            "tags": []
          },
          "output_type": "execute_result"
        }
      ]
    },
    {
      "cell_type": "code",
      "metadata": {
        "id": "kFjuAHS--IXV"
      },
      "source": [
        "Classe = dados['name'].replace({'orange' : 0, 'grapefruit' : 1})"
      ],
      "execution_count": null,
      "outputs": []
    },
    {
      "cell_type": "code",
      "metadata": {
        "colab": {
          "base_uri": "https://localhost:8080/",
          "height": 70
        },
        "id": "4arPoZW8CLtM",
        "outputId": "ca382e87-66f7-4f14-b557-ad87288f95a5"
      },
      "source": [
        "Classe.value_counts()"
      ],
      "execution_count": null,
      "outputs": [
        {
          "data": {
            "text/plain": [
              "1    5000\n",
              "0    5000\n",
              "Name: name, dtype: int64"
            ]
          },
          "execution_count": 13,
          "metadata": {
            "tags": []
          },
          "output_type": "execute_result"
        }
      ]
    },
    {
      "cell_type": "code",
      "metadata": {
        "colab": {
          "base_uri": "https://localhost:8080/",
          "height": 197
        },
        "id": "4bv7HW0xCwyH",
        "outputId": "005b836b-391b-49f4-c89c-528a4ebddf16"
      },
      "source": [
        "dados['Classe'] = Classe\n",
        "dados.head()"
      ],
      "execution_count": null,
      "outputs": [
        {
          "data": {
            "text/html": [
              "<div>\n",
              "<style scoped>\n",
              "    .dataframe tbody tr th:only-of-type {\n",
              "        vertical-align: middle;\n",
              "    }\n",
              "\n",
              "    .dataframe tbody tr th {\n",
              "        vertical-align: top;\n",
              "    }\n",
              "\n",
              "    .dataframe thead th {\n",
              "        text-align: right;\n",
              "    }\n",
              "</style>\n",
              "<table border=\"1\" class=\"dataframe\">\n",
              "  <thead>\n",
              "    <tr style=\"text-align: right;\">\n",
              "      <th></th>\n",
              "      <th>name</th>\n",
              "      <th>diameter</th>\n",
              "      <th>weight</th>\n",
              "      <th>red</th>\n",
              "      <th>green</th>\n",
              "      <th>blue</th>\n",
              "      <th>Classe</th>\n",
              "    </tr>\n",
              "  </thead>\n",
              "  <tbody>\n",
              "    <tr>\n",
              "      <th>0</th>\n",
              "      <td>orange</td>\n",
              "      <td>2.96</td>\n",
              "      <td>86.76</td>\n",
              "      <td>172</td>\n",
              "      <td>85</td>\n",
              "      <td>2</td>\n",
              "      <td>0</td>\n",
              "    </tr>\n",
              "    <tr>\n",
              "      <th>1</th>\n",
              "      <td>orange</td>\n",
              "      <td>3.91</td>\n",
              "      <td>88.05</td>\n",
              "      <td>166</td>\n",
              "      <td>78</td>\n",
              "      <td>3</td>\n",
              "      <td>0</td>\n",
              "    </tr>\n",
              "    <tr>\n",
              "      <th>2</th>\n",
              "      <td>orange</td>\n",
              "      <td>4.42</td>\n",
              "      <td>95.17</td>\n",
              "      <td>156</td>\n",
              "      <td>81</td>\n",
              "      <td>2</td>\n",
              "      <td>0</td>\n",
              "    </tr>\n",
              "    <tr>\n",
              "      <th>3</th>\n",
              "      <td>orange</td>\n",
              "      <td>4.47</td>\n",
              "      <td>95.60</td>\n",
              "      <td>163</td>\n",
              "      <td>81</td>\n",
              "      <td>4</td>\n",
              "      <td>0</td>\n",
              "    </tr>\n",
              "    <tr>\n",
              "      <th>4</th>\n",
              "      <td>orange</td>\n",
              "      <td>4.48</td>\n",
              "      <td>95.76</td>\n",
              "      <td>161</td>\n",
              "      <td>72</td>\n",
              "      <td>9</td>\n",
              "      <td>0</td>\n",
              "    </tr>\n",
              "  </tbody>\n",
              "</table>\n",
              "</div>"
            ],
            "text/plain": [
              "     name  diameter  weight  red  green  blue  Classe\n",
              "0  orange      2.96   86.76  172     85     2       0\n",
              "1  orange      3.91   88.05  166     78     3       0\n",
              "2  orange      4.42   95.17  156     81     2       0\n",
              "3  orange      4.47   95.60  163     81     4       0\n",
              "4  orange      4.48   95.76  161     72     9       0"
            ]
          },
          "execution_count": 14,
          "metadata": {
            "tags": []
          },
          "output_type": "execute_result"
        }
      ]
    },
    {
      "cell_type": "code",
      "metadata": {
        "colab": {
          "base_uri": "https://localhost:8080/",
          "height": 197
        },
        "id": "hBwtt7jGHe0o",
        "outputId": "0b412f52-3372-4a3e-f3ec-bc6da1c3b28a"
      },
      "source": [
        "dados = dados.drop(['name'], axis=1)\n",
        "dados.head(5)"
      ],
      "execution_count": null,
      "outputs": [
        {
          "data": {
            "text/html": [
              "<div>\n",
              "<style scoped>\n",
              "    .dataframe tbody tr th:only-of-type {\n",
              "        vertical-align: middle;\n",
              "    }\n",
              "\n",
              "    .dataframe tbody tr th {\n",
              "        vertical-align: top;\n",
              "    }\n",
              "\n",
              "    .dataframe thead th {\n",
              "        text-align: right;\n",
              "    }\n",
              "</style>\n",
              "<table border=\"1\" class=\"dataframe\">\n",
              "  <thead>\n",
              "    <tr style=\"text-align: right;\">\n",
              "      <th></th>\n",
              "      <th>diameter</th>\n",
              "      <th>weight</th>\n",
              "      <th>red</th>\n",
              "      <th>green</th>\n",
              "      <th>blue</th>\n",
              "      <th>Classe</th>\n",
              "    </tr>\n",
              "  </thead>\n",
              "  <tbody>\n",
              "    <tr>\n",
              "      <th>0</th>\n",
              "      <td>2.96</td>\n",
              "      <td>86.76</td>\n",
              "      <td>172</td>\n",
              "      <td>85</td>\n",
              "      <td>2</td>\n",
              "      <td>0</td>\n",
              "    </tr>\n",
              "    <tr>\n",
              "      <th>1</th>\n",
              "      <td>3.91</td>\n",
              "      <td>88.05</td>\n",
              "      <td>166</td>\n",
              "      <td>78</td>\n",
              "      <td>3</td>\n",
              "      <td>0</td>\n",
              "    </tr>\n",
              "    <tr>\n",
              "      <th>2</th>\n",
              "      <td>4.42</td>\n",
              "      <td>95.17</td>\n",
              "      <td>156</td>\n",
              "      <td>81</td>\n",
              "      <td>2</td>\n",
              "      <td>0</td>\n",
              "    </tr>\n",
              "    <tr>\n",
              "      <th>3</th>\n",
              "      <td>4.47</td>\n",
              "      <td>95.60</td>\n",
              "      <td>163</td>\n",
              "      <td>81</td>\n",
              "      <td>4</td>\n",
              "      <td>0</td>\n",
              "    </tr>\n",
              "    <tr>\n",
              "      <th>4</th>\n",
              "      <td>4.48</td>\n",
              "      <td>95.76</td>\n",
              "      <td>161</td>\n",
              "      <td>72</td>\n",
              "      <td>9</td>\n",
              "      <td>0</td>\n",
              "    </tr>\n",
              "  </tbody>\n",
              "</table>\n",
              "</div>"
            ],
            "text/plain": [
              "   diameter  weight  red  green  blue  Classe\n",
              "0      2.96   86.76  172     85     2       0\n",
              "1      3.91   88.05  166     78     3       0\n",
              "2      4.42   95.17  156     81     2       0\n",
              "3      4.47   95.60  163     81     4       0\n",
              "4      4.48   95.76  161     72     9       0"
            ]
          },
          "execution_count": 15,
          "metadata": {
            "tags": []
          },
          "output_type": "execute_result"
        }
      ]
    },
    {
      "cell_type": "markdown",
      "metadata": {
        "id": "uiW7x_O4WIDX"
      },
      "source": [
        "### 1.5. Removendo linhas duplicadas"
      ]
    },
    {
      "cell_type": "code",
      "metadata": {
        "colab": {
          "base_uri": "https://localhost:8080/",
          "height": 34
        },
        "id": "1nBN_BCDWSmv",
        "outputId": "9df70179-0ade-4ae3-c252-b0da431cf700"
      },
      "source": [
        "dados.shape"
      ],
      "execution_count": null,
      "outputs": [
        {
          "data": {
            "text/plain": [
              "(10000, 6)"
            ]
          },
          "execution_count": 16,
          "metadata": {
            "tags": []
          },
          "output_type": "execute_result"
        }
      ]
    },
    {
      "cell_type": "code",
      "metadata": {
        "colab": {
          "base_uri": "https://localhost:8080/",
          "height": 34
        },
        "id": "yB8t6o0wH7If",
        "outputId": "1780386d-cb6b-410e-e7bd-50bcf1507cde"
      },
      "source": [
        "linhas_duplicadas_dados = dados[dados.duplicated()]\n",
        "print(\"Número de linhas duplicadas: \", linhas_duplicadas_dados.shape)"
      ],
      "execution_count": null,
      "outputs": [
        {
          "name": "stdout",
          "output_type": "stream",
          "text": [
            "Número de linhas duplicadas:  (0, 6)\n"
          ]
        }
      ]
    },
    {
      "cell_type": "markdown",
      "metadata": {
        "id": "ip8u74471WU2"
      },
      "source": [
        "O dataset não possui linhas duplicadas.\n",
        "\n"
      ]
    },
    {
      "cell_type": "markdown",
      "metadata": {
        "id": "JkXUQtyQW3Dy"
      },
      "source": [
        "### 1.6. Eliminando os valores ausentes ou nulos"
      ]
    },
    {
      "cell_type": "code",
      "metadata": {
        "colab": {
          "base_uri": "https://localhost:8080/",
          "height": 141
        },
        "id": "Tzdlg-1OWjMz",
        "outputId": "50f16217-1e22-47de-8b44-c1933b9e52e8"
      },
      "source": [
        "print(dados.isnull().sum())"
      ],
      "execution_count": null,
      "outputs": [
        {
          "name": "stdout",
          "output_type": "stream",
          "text": [
            "diameter    0\n",
            "weight      0\n",
            "red         0\n",
            "green       0\n",
            "blue        0\n",
            "Classe      0\n",
            "dtype: int64\n"
          ]
        }
      ]
    },
    {
      "cell_type": "markdown",
      "metadata": {
        "id": "iWJqTVxTJQnO"
      },
      "source": [
        "O dataset também não possui dados ausentes."
      ]
    },
    {
      "cell_type": "markdown",
      "metadata": {
        "id": "8Py3sQc_ZxyU"
      },
      "source": [
        "### 1.7. Detecção de Outliers"
      ]
    },
    {
      "cell_type": "code",
      "metadata": {
        "colab": {
          "base_uri": "https://localhost:8080/",
          "height": 302
        },
        "id": "vtxX_y6zZ2ri",
        "outputId": "cfdbc00a-fb83-4ff4-a0aa-aa456cdd9a93"
      },
      "source": [
        "sns.boxplot(x=dados['diameter'])"
      ],
      "execution_count": null,
      "outputs": [
        {
          "data": {
            "text/plain": [
              "<matplotlib.axes._subplots.AxesSubplot at 0x7fafc6a65b00>"
            ]
          },
          "execution_count": 20,
          "metadata": {
            "tags": []
          },
          "output_type": "execute_result"
        },
        {
          "data": {
            "image/png": "[encoded data removed]",
            "text/plain": [
              "<Figure size 432x288 with 1 Axes>"
            ]
          },
          "metadata": {
            "needs_background": "light",
            "tags": []
          },
          "output_type": "display_data"
        }
      ]
    },
    {
      "cell_type": "code",
      "metadata": {
        "colab": {
          "base_uri": "https://localhost:8080/",
          "height": 302
        },
        "id": "OKLY1nzd2qEh",
        "outputId": "00c82ba9-d61c-42ee-fcb6-572a8cbc2c3e"
      },
      "source": [
        "sns.boxplot(x=dados['weight'])"
      ],
      "execution_count": null,
      "outputs": [
        {
          "data": {
            "text/plain": [
              "<matplotlib.axes._subplots.AxesSubplot at 0x7fafc686f278>"
            ]
          },
          "execution_count": 21,
          "metadata": {
            "tags": []
          },
          "output_type": "execute_result"
        },
        {
          "data": {
            "image/png": "[encoded data removed]",
            "text/plain": [
              "<Figure size 432x288 with 1 Axes>"
            ]
          },
          "metadata": {
            "needs_background": "light",
            "tags": []
          },
          "output_type": "display_data"
        }
      ]
    },
    {
      "cell_type": "code",
      "metadata": {
        "colab": {
          "base_uri": "https://localhost:8080/",
          "height": 302
        },
        "id": "DRBRWP2r2xBW",
        "outputId": "bfef1f55-2b0d-4797-a4ab-d6987fefad48"
      },
      "source": [
        "sns.boxplot(x=dados['red'])"
      ],
      "execution_count": null,
      "outputs": [
        {
          "data": {
            "text/plain": [
              "<matplotlib.axes._subplots.AxesSubplot at 0x7fafc633b5f8>"
            ]
          },
          "execution_count": 22,
          "metadata": {
            "tags": []
          },
          "output_type": "execute_result"
        },
        {
          "data": {
            "image/png": "[encoded data removed]",
            "text/plain": [
              "<Figure size 432x288 with 1 Axes>"
            ]
          },
          "metadata": {
            "needs_background": "light",
            "tags": []
          },
          "output_type": "display_data"
        }
      ]
    },
    {
      "cell_type": "code",
      "metadata": {
        "colab": {
          "base_uri": "https://localhost:8080/",
          "height": 302
        },
        "id": "9HtvQYVHZ8u5",
        "outputId": "d182c6fa-c401-4b4a-e480-fde22d34cf96"
      },
      "source": [
        "sns.boxplot(x=dados['green'])"
      ],
      "execution_count": null,
      "outputs": [
        {
          "data": {
            "text/plain": [
              "<matplotlib.axes._subplots.AxesSubplot at 0x7fafc631cdd8>"
            ]
          },
          "execution_count": 23,
          "metadata": {
            "tags": []
          },
          "output_type": "execute_result"
        },
        {
          "data": {
            "image/png": "[encoded data removed]",
            "text/plain": [
              "<Figure size 432x288 with 1 Axes>"
            ]
          },
          "metadata": {
            "needs_background": "light",
            "tags": []
          },
          "output_type": "display_data"
        }
      ]
    },
    {
      "cell_type": "code",
      "metadata": {
        "colab": {
          "base_uri": "https://localhost:8080/",
          "height": 302
        },
        "id": "jPRNI6BP27S3",
        "outputId": "26bbc7f0-0067-48c6-bf00-07222e085356"
      },
      "source": [
        "sns.boxplot(x=dados['blue'])"
      ],
      "execution_count": null,
      "outputs": [
        {
          "data": {
            "text/plain": [
              "<matplotlib.axes._subplots.AxesSubplot at 0x7fafc622a390>"
            ]
          },
          "execution_count": 24,
          "metadata": {
            "tags": []
          },
          "output_type": "execute_result"
        },
        {
          "data": {
            "image/png": "[encoded data removed]",
            "text/plain": [
              "<Figure size 432x288 with 1 Axes>"
            ]
          },
          "metadata": {
            "needs_background": "light",
            "tags": []
          },
          "output_type": "display_data"
        }
      ]
    },
    {
      "cell_type": "markdown",
      "metadata": {
        "id": "RmGjVRvs3NIs"
      },
      "source": [
        "Pelos gráficos acima, observa-se que apenas as variáveis CreditScore, Age e NumOfProducts apresentaram outliers. A seguir os outliers serão retirados da base."
      ]
    },
    {
      "cell_type": "code",
      "metadata": {
        "colab": {
          "base_uri": "https://localhost:8080/",
          "height": 141
        },
        "id": "cFG9hck7aHUx",
        "outputId": "89e542e9-cdb7-42ce-94fe-51ffaccb411f"
      },
      "source": [
        "#Calculando os quantis inferiores e superiores\n",
        "Q1 = dados.quantile(0.25)\n",
        "Q3 = dados.quantile(0.75)\n",
        "IQR = Q3 - Q1\n",
        "print(IQR)"
      ],
      "execution_count": null,
      "outputs": [
        {
          "name": "stdout",
          "output_type": "stream",
          "text": [
            "diameter     3.0200\n",
            "weight      45.5025\n",
            "red         14.0000\n",
            "green       16.0000\n",
            "blue        15.0000\n",
            "Classe       1.0000\n",
            "dtype: float64\n"
          ]
        }
      ]
    },
    {
      "cell_type": "code",
      "metadata": {
        "colab": {
          "base_uri": "https://localhost:8080/",
          "height": 34
        },
        "id": "igh_mRXeaJrI",
        "outputId": "fd5508cb-72fd-494c-df28-d6d4b7e69252"
      },
      "source": [
        "#Removendo os outliers presentes nos quantis inferiores e superiores\n",
        "dados = dados[~((dados < (Q1 - 1.5 * IQR)) |(dados > (Q3 + 1.5 * IQR))).any(axis=1)]\n",
        "dados.shape"
      ],
      "execution_count": null,
      "outputs": [
        {
          "data": {
            "text/plain": [
              "(9868, 6)"
            ]
          },
          "execution_count": 30,
          "metadata": {
            "tags": []
          },
          "output_type": "execute_result"
        }
      ]
    },
    {
      "cell_type": "code",
      "metadata": {
        "colab": {
          "base_uri": "https://localhost:8080/",
          "height": 34
        },
        "id": "qErCzYZBAGU5",
        "outputId": "5debd2cc-014e-467c-ae19-8e39e800c6cd"
      },
      "source": [
        "10000-9868"
      ],
      "execution_count": null,
      "outputs": [
        {
          "data": {
            "text/plain": [
              "132"
            ]
          },
          "execution_count": 31,
          "metadata": {
            "tags": []
          },
          "output_type": "execute_result"
        }
      ]
    },
    {
      "cell_type": "markdown",
      "metadata": {
        "id": "9Nh93DCGJkqT"
      },
      "source": [
        "Foram encontrados 132 outliers."
      ]
    },
    {
      "cell_type": "markdown",
      "metadata": {
        "id": "WqFPRda8eEp_"
      },
      "source": [
        "### 1.8. Visualização dos dados"
      ]
    },
    {
      "cell_type": "code",
      "metadata": {
        "colab": {
          "base_uri": "https://localhost:8080/",
          "height": 536
        },
        "id": "yhHfLVTj6nmy",
        "outputId": "743ede36-ab41-459c-fc54-062b20782717"
      },
      "source": [
        "plt.figure(figsize=(10,5))\n",
        "c= dados.corr()\n",
        "sns.heatmap(c,cmap=\"BrBG\",annot=True)\n",
        "c"
      ],
      "execution_count": null,
      "outputs": [
        {
          "data": {
            "text/html": [
              "<div>\n",
              "<style scoped>\n",
              "    .dataframe tbody tr th:only-of-type {\n",
              "        vertical-align: middle;\n",
              "    }\n",
              "\n",
              "    .dataframe tbody tr th {\n",
              "        vertical-align: top;\n",
              "    }\n",
              "\n",
              "    .dataframe thead th {\n",
              "        text-align: right;\n",
              "    }\n",
              "</style>\n",
              "<table border=\"1\" class=\"dataframe\">\n",
              "  <thead>\n",
              "    <tr style=\"text-align: right;\">\n",
              "      <th></th>\n",
              "      <th>diameter</th>\n",
              "      <th>weight</th>\n",
              "      <th>red</th>\n",
              "      <th>green</th>\n",
              "      <th>blue</th>\n",
              "      <th>Classe</th>\n",
              "    </tr>\n",
              "  </thead>\n",
              "  <tbody>\n",
              "    <tr>\n",
              "      <th>diameter</th>\n",
              "      <td>1.000000</td>\n",
              "      <td>0.999505</td>\n",
              "      <td>-0.213654</td>\n",
              "      <td>-0.398062</td>\n",
              "      <td>0.363679</td>\n",
              "      <td>0.771532</td>\n",
              "    </tr>\n",
              "    <tr>\n",
              "      <th>weight</th>\n",
              "      <td>0.999505</td>\n",
              "      <td>1.000000</td>\n",
              "      <td>-0.210664</td>\n",
              "      <td>-0.393344</td>\n",
              "      <td>0.359329</td>\n",
              "      <td>0.762297</td>\n",
              "    </tr>\n",
              "    <tr>\n",
              "      <th>red</th>\n",
              "      <td>-0.213654</td>\n",
              "      <td>-0.210664</td>\n",
              "      <td>1.000000</td>\n",
              "      <td>0.147070</td>\n",
              "      <td>-0.132092</td>\n",
              "      <td>-0.280313</td>\n",
              "    </tr>\n",
              "    <tr>\n",
              "      <th>green</th>\n",
              "      <td>-0.398062</td>\n",
              "      <td>-0.393344</td>\n",
              "      <td>0.147070</td>\n",
              "      <td>1.000000</td>\n",
              "      <td>-0.243985</td>\n",
              "      <td>-0.510385</td>\n",
              "    </tr>\n",
              "    <tr>\n",
              "      <th>blue</th>\n",
              "      <td>0.363679</td>\n",
              "      <td>0.359329</td>\n",
              "      <td>-0.132092</td>\n",
              "      <td>-0.243985</td>\n",
              "      <td>1.000000</td>\n",
              "      <td>0.467759</td>\n",
              "    </tr>\n",
              "    <tr>\n",
              "      <th>Classe</th>\n",
              "      <td>0.771532</td>\n",
              "      <td>0.762297</td>\n",
              "      <td>-0.280313</td>\n",
              "      <td>-0.510385</td>\n",
              "      <td>0.467759</td>\n",
              "      <td>1.000000</td>\n",
              "    </tr>\n",
              "  </tbody>\n",
              "</table>\n",
              "</div>"
            ],
            "text/plain": [
              "          diameter    weight       red     green      blue    Classe\n",
              "diameter  1.000000  0.999505 -0.213654 -0.398062  0.363679  0.771532\n",
              "weight    0.999505  1.000000 -0.210664 -0.393344  0.359329  0.762297\n",
              "red      -0.213654 -0.210664  1.000000  0.147070 -0.132092 -0.280313\n",
              "green    -0.398062 -0.393344  0.147070  1.000000 -0.243985 -0.510385\n",
              "blue      0.363679  0.359329 -0.132092 -0.243985  1.000000  0.467759\n",
              "Classe    0.771532  0.762297 -0.280313 -0.510385  0.467759  1.000000"
            ]
          },
          "execution_count": 32,
          "metadata": {
            "tags": []
          },
          "output_type": "execute_result"
        },
        {
          "data": {
            "image/png": "[encoded data removed]",
            "text/plain": [
              "<Figure size 720x360 with 2 Axes>"
            ]
          },
          "metadata": {
            "needs_background": "light",
            "tags": []
          },
          "output_type": "display_data"
        }
      ]
    },
    {
      "cell_type": "code",
      "metadata": {
        "colab": {
          "base_uri": "https://localhost:8080/",
          "height": 818
        },
        "id": "5kR4lo75Rknt",
        "outputId": "98e4d8d7-e775-4ce2-e84f-33c318d6e1d6"
      },
      "source": [
        "#diameter e weight - correlação: 1,0\n",
        "g = sns.FacetGrid(dados, hue=\"Classe\", size=10)\n",
        "g.map_dataframe(sns.scatterplot, x=\"diameter\", y=\"weight\")\n",
        "g.set_axis_labels(\"diameter\", \"weight\")\n",
        "g.add_legend()"
      ],
      "execution_count": null,
      "outputs": [
        {
          "name": "stderr",
          "output_type": "stream",
          "text": [
            "/usr/local/lib/python3.6/dist-packages/seaborn/axisgrid.py:316: UserWarning: The `size` parameter has been renamed to `height`; please update your code.\n",
            "  warnings.warn(msg, UserWarning)\n"
          ]
        },
        {
          "data": {
            "text/plain": [
              "<seaborn.axisgrid.FacetGrid at 0x7fafb6b75ba8>"
            ]
          },
          "execution_count": 62,
          "metadata": {
            "tags": []
          },
          "output_type": "execute_result"
        },
        {
          "data": {
            "image/png": "[encoded data removed]",
            "text/plain": [
              "<Figure size 768.175x720 with 1 Axes>"
            ]
          },
          "metadata": {
            "needs_background": "light",
            "tags": []
          },
          "output_type": "display_data"
        }
      ]
    },
    {
      "cell_type": "code",
      "metadata": {
        "colab": {
          "base_uri": "https://localhost:8080/",
          "height": 837
        },
        "id": "e49S5h87RYxW",
        "outputId": "ef6eb51b-5882-45d4-8402-245b4f2f2c8e"
      },
      "source": [
        "#blue e classe - correlação: 0,47\n",
        "g = sns.FacetGrid(dados, hue='Classe', size=10)\n",
        "g.map(sns.countplot, 'blue')\n",
        "g.add_legend()"
      ],
      "execution_count": null,
      "outputs": [
        {
          "name": "stderr",
          "output_type": "stream",
          "text": [
            "/usr/local/lib/python3.6/dist-packages/seaborn/axisgrid.py:316: UserWarning: The `size` parameter has been renamed to `height`; please update your code.\n",
            "  warnings.warn(msg, UserWarning)\n",
            "/usr/local/lib/python3.6/dist-packages/seaborn/axisgrid.py:645: UserWarning: Using the countplot function without specifying `order` is likely to produce an incorrect plot.\n",
            "  warnings.warn(warning)\n"
          ]
        },
        {
          "data": {
            "text/plain": [
              "<seaborn.axisgrid.FacetGrid at 0x7fafb6be02e8>"
            ]
          },
          "execution_count": 63,
          "metadata": {
            "tags": []
          },
          "output_type": "execute_result"
        },
        {
          "data": {
            "image/png": "[encoded data removed]",
            "text/plain": [
              "<Figure size 768.175x720 with 1 Axes>"
            ]
          },
          "metadata": {
            "needs_background": "light",
            "tags": []
          },
          "output_type": "display_data"
        }
      ]
    },
    {
      "cell_type": "code",
      "metadata": {
        "colab": {
          "base_uri": "https://localhost:8080/",
          "height": 818
        },
        "id": "iecWNUhRPM0N",
        "outputId": "0c3582ed-ea48-4823-8460-6d365b5b4454"
      },
      "source": [
        "# diameter, weight e blue - correlação: 0,36\n",
        "g = sns.FacetGrid(dados, hue=\"blue\", size=10)\n",
        "g.map_dataframe(sns.scatterplot, x=\"diameter\", y=\"weight\")\n",
        "g.set_axis_labels(\"diameter\", \"weight\")\n",
        "g.add_legend()"
      ],
      "execution_count": null,
      "outputs": [
        {
          "name": "stderr",
          "output_type": "stream",
          "text": [
            "/usr/local/lib/python3.6/dist-packages/seaborn/axisgrid.py:316: UserWarning: The `size` parameter has been renamed to `height`; please update your code.\n",
            "  warnings.warn(msg, UserWarning)\n"
          ]
        },
        {
          "data": {
            "text/plain": [
              "<seaborn.axisgrid.FacetGrid at 0x7fafb690bf28>"
            ]
          },
          "execution_count": 65,
          "metadata": {
            "tags": []
          },
          "output_type": "execute_result"
        },
        {
          "data": {
            "image/png": "[encoded data removed]",
            "text/plain": [
              "<Figure size 773.6x720 with 1 Axes>"
            ]
          },
          "metadata": {
            "needs_background": "light",
            "tags": []
          },
          "output_type": "display_data"
        }
      ]
    },
    {
      "cell_type": "code",
      "metadata": {
        "colab": {
          "base_uri": "https://localhost:8080/",
          "height": 818
        },
        "id": "mCXqixJ7OEI3",
        "outputId": "48dc4baf-b830-436c-d500-f28b3622a6b7"
      },
      "source": [
        "#green e red - correlação 0,15\n",
        "g = sns.FacetGrid(dados, hue=\"Classe\", size=10)\n",
        "g.map_dataframe(sns.scatterplot, x=\"green\", y=\"red\")\n",
        "g.set_axis_labels(\"green\", \"red\")\n",
        "g.add_legend()"
      ],
      "execution_count": null,
      "outputs": [
        {
          "name": "stderr",
          "output_type": "stream",
          "text": [
            "/usr/local/lib/python3.6/dist-packages/seaborn/axisgrid.py:316: UserWarning: The `size` parameter has been renamed to `height`; please update your code.\n",
            "  warnings.warn(msg, UserWarning)\n"
          ]
        },
        {
          "data": {
            "text/plain": [
              "<seaborn.axisgrid.FacetGrid at 0x7fafb6ac3780>"
            ]
          },
          "execution_count": 64,
          "metadata": {
            "tags": []
          },
          "output_type": "execute_result"
        },
        {
          "data": {
            "image/png": "[encoded data removed]",
            "text/plain": [
              "<Figure size 768.175x720 with 1 Axes>"
            ]
          },
          "metadata": {
            "needs_background": "light",
            "tags": []
          },
          "output_type": "display_data"
        }
      ]
    },
    {
      "cell_type": "markdown",
      "metadata": {
        "id": "XYvHwTkEKKTS"
      },
      "source": [
        "# 2. Treianmento e Validação\n",
        "\n",
        "## 2.1. Dividindo dados de treino, teste e validação\n"
      ]
    },
    {
      "cell_type": "code",
      "metadata": {
        "id": "Y7AN1jkQQBWZ"
      },
      "source": [
        "#Dividindo os dados de treino e validação pela técnica Holdout (80% e 20%)\n",
        "from sklearn.model_selection import train_test_split\n",
        "X_treino, X_validacao, y_treino, y_validacao = train_test_split(dados, classes, test_size=0.2)"
      ],
      "execution_count": null,
      "outputs": []
    },
    {
      "cell_type": "code",
      "metadata": {
        "id": "HRmR5T9Uxeft"
      },
      "source": [
        "#Dividindo os dados de treino e teste pela técnica Holdout (80% e 20%)\n",
        "from sklearn.model_selection import train_test_split\n",
        "X_train, X_test, y_train, y_test = train_test_split(X_treino, y_treino, test_size=0.2)"
      ],
      "execution_count": null,
      "outputs": []
    },
    {
      "cell_type": "markdown",
      "metadata": {
        "id": "5dooAc2xmmp9"
      },
      "source": [
        "## 2.2. Modelo SVM\n",
        "\n",
        "### 2.2.1. Treinamento \n",
        "\n",
        "### Aplicando o SVM com os dados divididos pela técnica Holdout"
      ]
    },
    {
      "cell_type": "code",
      "metadata": {
        "id": "kCL-EtXdmkKU"
      },
      "source": [
        "#Baixando a biblioteca e instanciando o algonitmo SVM\n",
        "from sklearn import svm\n",
        "clf = svm.SVC()"
      ],
      "execution_count": null,
      "outputs": []
    },
    {
      "cell_type": "code",
      "metadata": {
        "colab": {
          "base_uri": "https://localhost:8080/",
          "height": 87
        },
        "id": "6DsPqznr5gnl",
        "outputId": "5bb6c9b9-0e6f-4fa7-aa81-ee6bc3961723"
      },
      "source": [
        "#Treinando o algoritmo SVM\n",
        "clf.fit(X_train, y_train)"
      ],
      "execution_count": null,
      "outputs": [
        {
          "data": {
            "text/plain": [
              "SVC(C=1.0, break_ties=False, cache_size=200, class_weight=None, coef0=0.0,\n",
              "    decision_function_shape='ovr', degree=3, gamma='scale', kernel='rbf',\n",
              "    max_iter=-1, probability=False, random_state=None, shrinking=True,\n",
              "    tol=0.001, verbose=False)"
            ]
          },
          "execution_count": 117,
          "metadata": {
            "tags": []
          },
          "output_type": "execute_result"
        }
      ]
    },
    {
      "cell_type": "code",
      "metadata": {
        "colab": {
          "base_uri": "https://localhost:8080/",
          "height": 34
        },
        "id": "J-4H1KqZnFyl",
        "outputId": "8237c71d-5e80-47bd-c1de-3cf7532cf7ad"
      },
      "source": [
        "#Predição dos valores com os dados de teste\n",
        "predicao_svm = clf.predict(X_test)\n",
        "predicao_svm"
      ],
      "execution_count": null,
      "outputs": [
        {
          "data": {
            "text/plain": [
              "array([1, 0, 0, ..., 1, 0, 0])"
            ]
          },
          "execution_count": 118,
          "metadata": {
            "tags": []
          },
          "output_type": "execute_result"
        }
      ]
    },
    {
      "cell_type": "markdown",
      "metadata": {
        "id": "9h24vZY2b73c"
      },
      "source": [
        "### Avaliação dos resultados do treinamento do modelo SVM"
      ]
    },
    {
      "cell_type": "code",
      "metadata": {
        "colab": {
          "base_uri": "https://localhost:8080/",
          "height": 337
        },
        "id": "bqYtOxr-tD53",
        "outputId": "edcfe373-f1e7-4a46-d696-75f300d07e42"
      },
      "source": [
        "#Matriz de confusão\n",
        "from sklearn.metrics import confusion_matrix\n",
        "conf_mat = confusion_matrix(y_true=y_test, y_pred=predicao_svm)\n",
        "print('Confusion matrix:\\n', conf_mat)\n",
        "\n",
        "labels = ['Class 0', 'Class 1']\n",
        "fig = plt.figure()\n",
        "ax = fig.add_subplot(111)\n",
        "cax = ax.matshow(conf_mat, cmap=plt.cm.Blues)\n",
        "fig.colorbar(cax)\n",
        "ax.set_xticklabels([''] + labels)\n",
        "ax.set_yticklabels([''] + labels)\n",
        "plt.xlabel('Predito')\n",
        "plt.ylabel('Real')\n",
        "plt.show()"
      ],
      "execution_count": null,
      "outputs": [
        {
          "name": "stdout",
          "output_type": "stream",
          "text": [
            "Confusion matrix:\n",
            " [[737  57]\n",
            " [ 62 723]]\n"
          ]
        },
        {
          "data": {
            "image/png": "[encoded data removed]",
            "text/plain": [
              "<Figure size 432x288 with 2 Axes>"
            ]
          },
          "metadata": {
            "needs_background": "light",
            "tags": []
          },
          "output_type": "display_data"
        }
      ]
    },
    {
      "cell_type": "code",
      "metadata": {
        "colab": {
          "base_uri": "https://localhost:8080/",
          "height": 176
        },
        "id": "VvVz_-eFyTxm",
        "outputId": "ef5bea57-c12f-474f-9d09-7c8d75e0d5ba"
      },
      "source": [
        "#Precision, Recall, F1 Score e Accuracy\n",
        "from sklearn.metrics import classification_report, confusion_matrix\n",
        "print(classification_report(y_test, predicao_svm))"
      ],
      "execution_count": null,
      "outputs": [
        {
          "name": "stdout",
          "output_type": "stream",
          "text": [
            "              precision    recall  f1-score   support\n",
            "\n",
            "           0       0.92      0.93      0.93       794\n",
            "           1       0.93      0.92      0.92       785\n",
            "\n",
            "    accuracy                           0.92      1579\n",
            "   macro avg       0.92      0.92      0.92      1579\n",
            "weighted avg       0.92      0.92      0.92      1579\n",
            "\n"
          ]
        }
      ]
    },
    {
      "cell_type": "markdown",
      "metadata": {
        "id": "yTMOiUtV6w0_"
      },
      "source": [
        "### 2.2.2. Validação\n"
      ]
    },
    {
      "cell_type": "code",
      "metadata": {
        "colab": {
          "base_uri": "https://localhost:8080/",
          "height": 34
        },
        "id": "hU10oaZPQcGG",
        "outputId": "9d38d0e5-84e5-45be-fb99-56948e242cd5"
      },
      "source": [
        "#Predição dos valores com os dados de teste\n",
        "predicao_svm_val = clf.predict(X_validacao)\n",
        "predicao_svm_val"
      ],
      "execution_count": null,
      "outputs": [
        {
          "data": {
            "text/plain": [
              "array([1, 0, 0, ..., 1, 0, 1])"
            ]
          },
          "execution_count": 121,
          "metadata": {
            "tags": []
          },
          "output_type": "execute_result"
        }
      ]
    },
    {
      "cell_type": "code",
      "metadata": {
        "colab": {
          "base_uri": "https://localhost:8080/",
          "height": 337
        },
        "id": "iJvdF_3AQkp_",
        "outputId": "7d9be41e-d7dd-4d44-cb53-ef677537e827"
      },
      "source": [
        "#Matriz de confusão\n",
        "from sklearn.metrics import confusion_matrix\n",
        "conf_mat = confusion_matrix(y_true=y_validacao, y_pred=predicao_svm_val)\n",
        "print('Confusion matrix:\\n', conf_mat)\n",
        "\n",
        "labels = ['Class 0', 'Class 1']\n",
        "fig = plt.figure()\n",
        "ax = fig.add_subplot(111)\n",
        "cax = ax.matshow(conf_mat, cmap=plt.cm.Blues)\n",
        "fig.colorbar(cax)\n",
        "ax.set_xticklabels([''] + labels)\n",
        "ax.set_yticklabels([''] + labels)\n",
        "plt.xlabel('Predito')\n",
        "plt.ylabel('Real')\n",
        "plt.show()"
      ],
      "execution_count": null,
      "outputs": [
        {
          "name": "stdout",
          "output_type": "stream",
          "text": [
            "Confusion matrix:\n",
            " [[975  76]\n",
            " [ 75 848]]\n"
          ]
        },
        {
          "data": {
            "image/png": "[encoded data removed]",
            "text/plain": [
              "<Figure size 432x288 with 2 Axes>"
            ]
          },
          "metadata": {
            "needs_background": "light",
            "tags": []
          },
          "output_type": "display_data"
        }
      ]
    },
    {
      "cell_type": "code",
      "metadata": {
        "colab": {
          "base_uri": "https://localhost:8080/",
          "height": 176
        },
        "id": "rpM8bpTWQ0AK",
        "outputId": "e3b9bf08-8e41-47c3-d17b-b03bc0e53451"
      },
      "source": [
        "#Precision, Recall, F1 Score e Accuracy\n",
        "from sklearn.metrics import classification_report, confusion_matrix\n",
        "print(classification_report(y_validacao, predicao_svm_val))"
      ],
      "execution_count": null,
      "outputs": [
        {
          "name": "stdout",
          "output_type": "stream",
          "text": [
            "              precision    recall  f1-score   support\n",
            "\n",
            "           0       0.93      0.93      0.93      1051\n",
            "           1       0.92      0.92      0.92       923\n",
            "\n",
            "    accuracy                           0.92      1974\n",
            "   macro avg       0.92      0.92      0.92      1974\n",
            "weighted avg       0.92      0.92      0.92      1974\n",
            "\n"
          ]
        }
      ]
    },
    {
      "cell_type": "markdown",
      "metadata": {
        "id": "TTNUat4NwyCz"
      },
      "source": [
        "### Cross Validation"
      ]
    },
    {
      "cell_type": "code",
      "metadata": {
        "colab": {
          "base_uri": "https://localhost:8080/",
          "height": 176
        },
        "id": "nUlIKgcr63wI",
        "outputId": "6d5addf9-699f-4a80-91f7-4911f5ba5a78"
      },
      "source": [
        "#Cross validation e métricas com os dados de validação do SVM\n",
        "from sklearn.model_selection import cross_val_predict\n",
        "from sklearn import metrics\n",
        "resultados_svm = cross_val_predict(clf,X_validacao, y_validacao, cv=5)\n",
        "valor_classes = [0,1]\n",
        "print (metrics.classification_report(y_validacao,resultados_svm,valor_classes))"
      ],
      "execution_count": null,
      "outputs": [
        {
          "name": "stdout",
          "output_type": "stream",
          "text": [
            "              precision    recall  f1-score   support\n",
            "\n",
            "           0       0.92      0.94      0.93      1051\n",
            "           1       0.93      0.91      0.92       923\n",
            "\n",
            "    accuracy                           0.93      1974\n",
            "   macro avg       0.93      0.92      0.93      1974\n",
            "weighted avg       0.93      0.93      0.93      1974\n",
            "\n"
          ]
        }
      ]
    },
    {
      "cell_type": "markdown",
      "metadata": {
        "id": "6qA75Pty8Ih-"
      },
      "source": [
        "## 2.3. Modelo KNN\n",
        "\n",
        "### 2.3.1. Treinamento\n",
        "\n",
        "### Aplicando o KNN com os dados divididos pela técnica Holdout"
      ]
    },
    {
      "cell_type": "code",
      "metadata": {
        "id": "O6sJYQjy9DB4"
      },
      "source": [
        "#Baixando a biblioteca e instanciando o algonitmo KNN\n",
        "from sklearn.neighbors import KNeighborsClassifier\n",
        "knn = KNeighborsClassifier(n_neighbors=2)"
      ],
      "execution_count": null,
      "outputs": []
    },
    {
      "cell_type": "code",
      "metadata": {
        "colab": {
          "base_uri": "https://localhost:8080/",
          "height": 70
        },
        "id": "sfCHPS_j9auJ",
        "outputId": "ba0ab396-ccf5-42d3-da27-047578f6fdb1"
      },
      "source": [
        "#Treinando o algoritmo KNN\n",
        "knn.fit(X_train, y_train)"
      ],
      "execution_count": null,
      "outputs": [
        {
          "data": {
            "text/plain": [
              "KNeighborsClassifier(algorithm='auto', leaf_size=30, metric='minkowski',\n",
              "                     metric_params=None, n_jobs=None, n_neighbors=2, p=2,\n",
              "                     weights='uniform')"
            ]
          },
          "execution_count": 126,
          "metadata": {
            "tags": []
          },
          "output_type": "execute_result"
        }
      ]
    },
    {
      "cell_type": "code",
      "metadata": {
        "colab": {
          "base_uri": "https://localhost:8080/",
          "height": 34
        },
        "id": "EmpnA47K91Mu",
        "outputId": "a714c868-d4fc-42dd-9f72-f86ea1c52a47"
      },
      "source": [
        "#Predição dos valores com os dados de teste do KNN\n",
        "predicao_knn = knn.predict(X_test)\n",
        "predicao_knn"
      ],
      "execution_count": null,
      "outputs": [
        {
          "data": {
            "text/plain": [
              "array([1, 0, 0, ..., 1, 0, 0])"
            ]
          },
          "execution_count": 127,
          "metadata": {
            "tags": []
          },
          "output_type": "execute_result"
        }
      ]
    },
    {
      "cell_type": "markdown",
      "metadata": {
        "id": "L5axRabj9C82"
      },
      "source": [
        "### Avaliação dos resultados do treinamento do modelo KNN"
      ]
    },
    {
      "cell_type": "code",
      "metadata": {
        "colab": {
          "base_uri": "https://localhost:8080/",
          "height": 337
        },
        "id": "tHMRti0SsnU-",
        "outputId": "048d1826-b87b-4de5-9bd3-3a4e5f8342a6"
      },
      "source": [
        "#Matriz de confusão\n",
        "conf_mat = confusion_matrix(y_true=y_test, y_pred=predicao_knn)\n",
        "print('Confusion matrix:\\n', conf_mat)\n",
        "\n",
        "labels = ['Class 0', 'Class 1']\n",
        "fig = plt.figure()\n",
        "ax = fig.add_subplot(111)\n",
        "cax = ax.matshow(conf_mat, cmap=plt.cm.Blues)\n",
        "fig.colorbar(cax)\n",
        "ax.set_xticklabels([''] + labels)\n",
        "ax.set_yticklabels([''] + labels)\n",
        "plt.xlabel('Predito')\n",
        "plt.ylabel('Real')\n",
        "plt.show()"
      ],
      "execution_count": null,
      "outputs": [
        {
          "name": "stdout",
          "output_type": "stream",
          "text": [
            "Confusion matrix:\n",
            " [[750  44]\n",
            " [125 660]]\n"
          ]
        },
        {
          "data": {
            "image/png": "[encoded data removed]",
            "text/plain": [
              "<Figure size 432x288 with 2 Axes>"
            ]
          },
          "metadata": {
            "needs_background": "light",
            "tags": []
          },
          "output_type": "display_data"
        }
      ]
    },
    {
      "cell_type": "code",
      "metadata": {
        "colab": {
          "base_uri": "https://localhost:8080/",
          "height": 176
        },
        "id": "7otiI83F_27i",
        "outputId": "b3bf2589-e857-477a-9aa3-a018accbbff5"
      },
      "source": [
        "#Precision, Recall, F1 Score e Accuracy\n",
        "print(classification_report(y_test, predicao_knn))"
      ],
      "execution_count": null,
      "outputs": [
        {
          "name": "stdout",
          "output_type": "stream",
          "text": [
            "              precision    recall  f1-score   support\n",
            "\n",
            "           0       0.86      0.94      0.90       794\n",
            "           1       0.94      0.84      0.89       785\n",
            "\n",
            "    accuracy                           0.89      1579\n",
            "   macro avg       0.90      0.89      0.89      1579\n",
            "weighted avg       0.90      0.89      0.89      1579\n",
            "\n"
          ]
        }
      ]
    },
    {
      "cell_type": "markdown",
      "metadata": {
        "id": "dqQM6UUG30AG"
      },
      "source": [
        "### 2.3.2. Validação"
      ]
    },
    {
      "cell_type": "code",
      "metadata": {
        "colab": {
          "base_uri": "https://localhost:8080/",
          "height": 34
        },
        "id": "8BouGx4_RWPr",
        "outputId": "0bd0f04d-1dd6-422e-9ab2-dc6ce2168881"
      },
      "source": [
        "#Predição dos valores com os dados de teste do KNN\n",
        "predicao_knn_val = knn.predict(X_validacao)\n",
        "predicao_knn_val"
      ],
      "execution_count": null,
      "outputs": [
        {
          "data": {
            "text/plain": [
              "array([1, 0, 0, ..., 1, 0, 1])"
            ]
          },
          "execution_count": 130,
          "metadata": {
            "tags": []
          },
          "output_type": "execute_result"
        }
      ]
    },
    {
      "cell_type": "code",
      "metadata": {
        "colab": {
          "base_uri": "https://localhost:8080/",
          "height": 337
        },
        "id": "GecpLc2zRcUP",
        "outputId": "f6e06eb3-7c9b-417e-a02d-52f08edae044"
      },
      "source": [
        "#Matriz de confusão\n",
        "conf_mat = confusion_matrix(y_true=y_validacao, y_pred=predicao_knn_val)\n",
        "print('Confusion matrix:\\n', conf_mat)\n",
        "\n",
        "labels = ['Class 0', 'Class 1']\n",
        "fig = plt.figure()\n",
        "ax = fig.add_subplot(111)\n",
        "cax = ax.matshow(conf_mat, cmap=plt.cm.Blues)\n",
        "fig.colorbar(cax)\n",
        "ax.set_xticklabels([''] + labels)\n",
        "ax.set_yticklabels([''] + labels)\n",
        "plt.xlabel('Predito')\n",
        "plt.ylabel('Real')\n",
        "plt.show()"
      ],
      "execution_count": null,
      "outputs": [
        {
          "name": "stdout",
          "output_type": "stream",
          "text": [
            "Confusion matrix:\n",
            " [[992  59]\n",
            " [153 770]]\n"
          ]
        },
        {
          "data": {
            "image/png": "[encoded data removed]",
            "text/plain": [
              "<Figure size 432x288 with 2 Axes>"
            ]
          },
          "metadata": {
            "needs_background": "light",
            "tags": []
          },
          "output_type": "display_data"
        }
      ]
    },
    {
      "cell_type": "code",
      "metadata": {
        "colab": {
          "base_uri": "https://localhost:8080/",
          "height": 176
        },
        "id": "s4yj61viRjU9",
        "outputId": "39bef977-dea2-4dc2-b8d7-fe39a117d51b"
      },
      "source": [
        "#Precision, Recall, F1 Score e Accuracy\n",
        "print(classification_report(y_validacao, predicao_knn_val))"
      ],
      "execution_count": null,
      "outputs": [
        {
          "name": "stdout",
          "output_type": "stream",
          "text": [
            "              precision    recall  f1-score   support\n",
            "\n",
            "           0       0.87      0.94      0.90      1051\n",
            "           1       0.93      0.83      0.88       923\n",
            "\n",
            "    accuracy                           0.89      1974\n",
            "   macro avg       0.90      0.89      0.89      1974\n",
            "weighted avg       0.90      0.89      0.89      1974\n",
            "\n"
          ]
        }
      ]
    },
    {
      "cell_type": "markdown",
      "metadata": {
        "id": "F3_KGcp_ClOd"
      },
      "source": [
        "### Cross validation"
      ]
    },
    {
      "cell_type": "code",
      "metadata": {
        "colab": {
          "base_uri": "https://localhost:8080/",
          "height": 176
        },
        "id": "2GP5OgeBCSeH",
        "outputId": "a73369a6-38fc-4350-d117-a864a426b160"
      },
      "source": [
        "#Cross validation e métricas com os dados de validação do KNN\n",
        "from sklearn.model_selection import cross_val_predict\n",
        "from sklearn import metrics\n",
        "resultados_knn = cross_val_predict(knn,X_validacao, y_validacao, cv=5)\n",
        "valor_classes = [0,1]\n",
        "print (metrics.classification_report(y_validacao,resultados_knn,valor_classes))"
      ],
      "execution_count": null,
      "outputs": [
        {
          "name": "stdout",
          "output_type": "stream",
          "text": [
            "              precision    recall  f1-score   support\n",
            "\n",
            "           0       0.85      0.96      0.91      1051\n",
            "           1       0.95      0.81      0.88       923\n",
            "\n",
            "    accuracy                           0.89      1974\n",
            "   macro avg       0.90      0.89      0.89      1974\n",
            "weighted avg       0.90      0.89      0.89      1974\n",
            "\n"
          ]
        }
      ]
    },
    {
      "cell_type": "markdown",
      "metadata": {
        "id": "LtUe3oNp7GsV"
      },
      "source": [
        "# 3. Conclusões\n",
        "\n",
        "Como os dados são balanceados, a acurácia pode ser utilizada para comparar os dois modelos. Assim, observa-se que o SVM apresentou um desempenho melhor que o KNN tanto durante o treinamento como após a cross validation. Isso também pode ser observado pelas curvas ROC abaixo, em que a área da curva do SVM é maior do que a do KNN.\n"
      ]
    },
    {
      "cell_type": "code",
      "metadata": {
        "colab": {
          "base_uri": "https://localhost:8080/",
          "height": 302
        },
        "id": "YqdhbeliYWk8",
        "outputId": "e559334f-699b-4305-c7eb-f5f486d5fd6d"
      },
      "source": [
        "#Curva ROC do SVM\n",
        "from sklearn.metrics import roc_curve\n",
        "fpr, tpr, thresholds = roc_curve(y_validacao, resultados_svm)\n",
        "fig, ax = plt.subplots(figsize = (12,4))\n",
        "plt.plot(fpr, tpr, linewidth=2, label = 'Logistic Regression')\n",
        "plt.plot([0,1], [0,1], 'k--')\n",
        "plt.axis([0, 1, 0, 1])\n",
        "plt.xlabel('Taxa de Falsos Positivos')\n",
        "plt.ylabel('Taxa de Verdadeiros Positivos')\n",
        "plt.legend(loc = 'lower right')\n",
        "plt.title('Curva ROC', fontsize = 14)\n",
        "plt.show()"
      ],
      "execution_count": null,
      "outputs": [
        {
          "data": {
            "image/png": "[encoded data removed]",
            "text/plain": [
              "<Figure size 864x288 with 1 Axes>"
            ]
          },
          "metadata": {
            "needs_background": "light",
            "tags": []
          },
          "output_type": "display_data"
        }
      ]
    },
    {
      "cell_type": "code",
      "metadata": {
        "colab": {
          "base_uri": "https://localhost:8080/",
          "height": 302
        },
        "id": "2dUZlgDjZU-G",
        "outputId": "76fdc476-7d4f-4f1d-d862-e576eb36e822"
      },
      "source": [
        "#Curva ROC do KNN\n",
        "from sklearn.metrics import roc_curve\n",
        "fpr, tpr, thresholds = roc_curve(y_validacao, resultados_knn)\n",
        "fig, ax = plt.subplots(figsize = (12,4))\n",
        "plt.plot(fpr, tpr, linewidth=2, label = 'Logistic Regression')\n",
        "plt.plot([0,1], [0,1], 'k--')\n",
        "plt.axis([0, 1, 0, 1])\n",
        "plt.xlabel('Taxa de Falsos Positivos')\n",
        "plt.ylabel('Taxa de Verdadeiros Positivos')\n",
        "plt.legend(loc = 'lower right')\n",
        "plt.title('Curva ROC', fontsize = 14)\n",
        "plt.show()"
      ],
      "execution_count": null,
      "outputs": [
        {
          "data": {
            "image/png": "[encoded data removed]",
            "text/plain": [
              "<Figure size 864x288 with 1 Axes>"
            ]
          },
          "metadata": {
            "needs_background": "light",
            "tags": []
          },
          "output_type": "display_data"
        }
      ]
    }
  ]
}